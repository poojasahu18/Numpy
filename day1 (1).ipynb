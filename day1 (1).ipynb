{
 "cells": [
  {
   "cell_type": "code",
   "execution_count": 26,
   "id": "ed05a02b-d24e-438c-976f-14614099ef13",
   "metadata": {},
   "outputs": [
    {
     "data": {
      "text/plain": [
       "array([ 2,  3, 34,  7, 57,  7])"
      ]
     },
     "execution_count": 26,
     "metadata": {},
     "output_type": "execute_result"
    }
   ],
   "source": [
    "import numpy as np\n",
    "arr=np.array([2,3,34,7,57,7],dtype=np.int64)\n",
    "arr"
   ]
  },
  {
   "cell_type": "code",
   "execution_count": 18,
   "id": "53ea503b-71b9-4eaa-9945-4d18d85ce50d",
   "metadata": {},
   "outputs": [
    {
     "name": "stdout",
     "output_type": "stream",
     "text": [
      "7\n",
      "<class 'numpy.ndarray'>\n",
      "(7,)\n",
      "2\n",
      "1\n"
     ]
    }
   ],
   "source": [
    "print(arr.size)\n",
    "print(type(arr))\n",
    "print(arr.shape)\n",
    "print(arr.itemsize)\n",
    "print(arr.ndim)"
   ]
  },
  {
   "cell_type": "code",
   "execution_count": 19,
   "id": "1961df94-d8f9-4f95-9d22-651fe5449bad",
   "metadata": {},
   "outputs": [
    {
     "data": {
      "text/plain": [
       "array([ 1,  6, 11, 16])"
      ]
     },
     "execution_count": 19,
     "metadata": {},
     "output_type": "execute_result"
    }
   ],
   "source": [
    "np.arange(1,20,5)"
   ]
  },
  {
   "cell_type": "code",
   "execution_count": 20,
   "id": "69d402cd-037b-4362-86ef-5577956be722",
   "metadata": {},
   "outputs": [
    {
     "data": {
      "text/plain": [
       "array([ 1.  ,  3.25,  5.5 ,  7.75, 10.  ])"
      ]
     },
     "execution_count": 20,
     "metadata": {},
     "output_type": "execute_result"
    }
   ],
   "source": [
    "np.linspace(1,10,5)"
   ]
  },
  {
   "cell_type": "code",
   "execution_count": 21,
   "id": "011b72df-3dbe-415b-9f79-0dedcdf92eeb",
   "metadata": {},
   "outputs": [
    {
     "data": {
      "text/plain": [
       "2"
      ]
     },
     "execution_count": 21,
     "metadata": {},
     "output_type": "execute_result"
    }
   ],
   "source": [
    "arr.itemsize"
   ]
  },
  {
   "cell_type": "code",
   "execution_count": 37,
   "id": "0d1373d6-0db8-4daf-836c-e95a865d1ed7",
   "metadata": {},
   "outputs": [
    {
     "data": {
      "text/plain": [
       "array([[ 2,  3],\n",
       "       [34,  7],\n",
       "       [57,  7]])"
      ]
     },
     "execution_count": 37,
     "metadata": {},
     "output_type": "execute_result"
    }
   ],
   "source": [
    "arr.reshape(3,2)"
   ]
  },
  {
   "cell_type": "code",
   "execution_count": 40,
   "id": "50f7edde-ed4f-4064-a985-e93cc5665bcc",
   "metadata": {},
   "outputs": [
    {
     "data": {
      "text/plain": [
       "array([[False, False],\n",
       "       [False, False],\n",
       "       [False, False],\n",
       "       [False, False],\n",
       "       [False, False]])"
      ]
     },
     "execution_count": 40,
     "metadata": {},
     "output_type": "execute_result"
    }
   ],
   "source": [
    "np.zeros((5,2),dtype=bool)"
   ]
  },
  {
   "cell_type": "code",
   "execution_count": 39,
   "id": "c2d6721b-11dd-4046-a591-9cede24e158d",
   "metadata": {},
   "outputs": [
    {
     "data": {
      "text/plain": [
       "array([ True,  True,  True,  True,  True,  True,  True,  True])"
      ]
     },
     "execution_count": 39,
     "metadata": {},
     "output_type": "execute_result"
    }
   ],
   "source": [
    "np.ones(8,dtype=bool)"
   ]
  },
  {
   "cell_type": "code",
   "execution_count": 44,
   "id": "8c087531-77d6-43c1-92c4-458e1cef244f",
   "metadata": {},
   "outputs": [
    {
     "data": {
      "text/plain": [
       "array([18.10014453, 38.04989261, 94.08560972, 18.54471094, 67.33481048,\n",
       "        0.74255306,  2.20156249,  2.95399913, 28.83249485, 76.13936229])"
      ]
     },
     "execution_count": 44,
     "metadata": {},
     "output_type": "execute_result"
    }
   ],
   "source": [
    "np.random.rand(10)*100"
   ]
  },
  {
   "cell_type": "code",
   "execution_count": 55,
   "id": "277e2166-41e6-41dc-8046-18a98eec49af",
   "metadata": {},
   "outputs": [
    {
     "data": {
      "text/plain": [
       "array([  2,  34,   3,   5, 646,   6])"
      ]
     },
     "execution_count": 55,
     "metadata": {},
     "output_type": "execute_result"
    }
   ],
   "source": [
    "arr2=np.array((2,34,3,5,646,6))\n",
    "arr2"
   ]
  },
  {
   "cell_type": "code",
   "execution_count": 54,
   "id": "c2870ab4-47ec-4af2-83e8-0e014ce2b002",
   "metadata": {},
   "outputs": [
    {
     "data": {
      "text/plain": [
       "array([], dtype=int64)"
      ]
     },
     "execution_count": 54,
     "metadata": {},
     "output_type": "execute_result"
    }
   ],
   "source": [
    "arr2[3:-2:-1]"
   ]
  },
  {
   "cell_type": "code",
   "execution_count": 57,
   "id": "d4436e59-1351-4458-9e15-515fd825b675",
   "metadata": {},
   "outputs": [
    {
     "data": {
      "text/plain": [
       "array([2, 3, 5, 6])"
      ]
     },
     "execution_count": 57,
     "metadata": {},
     "output_type": "execute_result"
    }
   ],
   "source": [
    "arr2[arr2<10]"
   ]
  },
  {
   "cell_type": "code",
   "execution_count": 59,
   "id": "ec55b43d-44e7-4757-bc15-facd0cbb267c",
   "metadata": {},
   "outputs": [
    {
     "name": "stdout",
     "output_type": "stream",
     "text": [
      "[11 12 13 14 15]\n",
      "[-1  0  1  2  3]\n",
      "[ 2  4  6  8 10]\n",
      "[0.5 1.  1.5 2.  2.5]\n",
      "[0 1 1 2 2]\n",
      "[1 0 1 0 1]\n"
     ]
    }
   ],
   "source": [
    "arr3 = np.array([1, 2, 3, 4, 5])\n",
    "print(arr3 + 10)   # [11 12 13 14 15] - Addition\n",
    "print(arr3 - 2)    # [-1  0  1  2  3] - Subtraction\n",
    "print(arr3 * 2)    # [ 2  4  6  8 10] - Multiplication\n",
    "print(arr3 / 2)    # [0.5 1.  1.5 2.  2.5] - Division\n",
    "print(arr3 // 2)   # [0 1 1 2 2] - Floor Division\n",
    "print(arr3 % 2)    # [1 0 1 0 1] -remainder\n"
   ]
  },
  {
   "cell_type": "code",
   "execution_count": null,
   "id": "f704eb33-925c-4af9-8c8b-c5026df827fd",
   "metadata": {},
   "outputs": [],
   "source": []
  }
 ],
 "metadata": {
  "kernelspec": {
   "display_name": "Python 3 (ipykernel)",
   "language": "python",
   "name": "python3"
  },
  "language_info": {
   "codemirror_mode": {
    "name": "ipython",
    "version": 3
   },
   "file_extension": ".py",
   "mimetype": "text/x-python",
   "name": "python",
   "nbconvert_exporter": "python",
   "pygments_lexer": "ipython3",
   "version": "3.13.3"
  }
 },
 "nbformat": 4,
 "nbformat_minor": 5
}
